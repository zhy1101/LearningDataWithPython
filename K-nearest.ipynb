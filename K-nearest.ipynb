{
 "cells": [
  {
   "cell_type": "code",
   "execution_count": 2,
   "metadata": {},
   "outputs": [
    {
     "data": {
      "image/png": "[encoded data removed]",
      "text/plain": [
       "<Figure size 432x288 with 1 Axes>"
      ]
     },
     "metadata": {},
     "output_type": "display_data"
    }
   ],
   "source": [
    "import matplotlib.pyplot as plt\n",
    "from numpy.random import random\n",
    "import seaborn;seaborn.set()\n",
    "import numpy as np\n",
    "\n",
    "rand = np.random.RandomState(42)\n",
    "X = rand.rand(10,2)\n",
    "plt.scatter(X[:,0],X[:,1],s=100);"
   ]
  },
  {
   "cell_type": "code",
   "execution_count": 5,
   "metadata": {},
   "outputs": [
    {
     "data": {
      "text/plain": [
       "array([[0.        , 0.25171654, 0.67933117, 0.10729142, 0.11021119,\n",
       "        0.12565305, 0.75487265, 0.62590345, 0.1863819 , 0.43821601],\n",
       "       [0.25171654, 0.        , 0.52769893, 0.52572083, 0.02910074,\n",
       "        0.64393098, 0.1593326 , 0.47512176, 0.18843303, 0.18454216],\n",
       "       [0.67933117, 0.52769893, 0.        , 0.51394921, 0.50290096,\n",
       "        0.68080058, 0.46072414, 0.00141727, 0.15795558, 0.09442377],\n",
       "       [0.10729142, 0.52572083, 0.51394921, 0.        , 0.31987984,\n",
       "        0.01216687, 1.02713477, 0.48148903, 0.17716149, 0.47033641],\n",
       "       [0.11021119, 0.02910074, 0.50290096, 0.31987984, 0.        ,\n",
       "        0.40557444, 0.29926414, 0.45108072, 0.12173825, 0.20237694],\n",
       "       [0.12565305, 0.64393098, 0.68080058, 0.01216687, 0.40557444,\n",
       "        0.        , 1.23302708, 0.64458914, 0.27862329, 0.62982499],\n",
       "       [0.75487265, 0.1593326 , 0.46072414, 1.02713477, 0.29926414,\n",
       "        1.23302708, 0.        , 0.42414057, 0.37660024, 0.16662198],\n",
       "       [0.62590345, 0.47512176, 0.00141727, 0.48148903, 0.45108072,\n",
       "        0.64458914, 0.42414057, 0.        , 0.13150712, 0.07418619],\n",
       "       [0.1863819 , 0.18843303, 0.15795558, 0.17716149, 0.12173825,\n",
       "        0.27862329, 0.37660024, 0.13150712, 0.        , 0.07084299],\n",
       "       [0.43821601, 0.18454216, 0.09442377, 0.47033641, 0.20237694,\n",
       "        0.62982499, 0.16662198, 0.07418619, 0.07084299, 0.        ]])"
      ]
     },
     "execution_count": 5,
     "metadata": {},
     "output_type": "execute_result"
    }
   ],
   "source": [
    "#用一行代码计算矩阵的平方距离\n",
    "dist_sq = np.sum((X[:,np.newaxis,:]-X[np.newaxis,:,:])**2,axis = -1)\n",
    "dist_sq"
   ]
  },
  {
   "cell_type": "code",
   "execution_count": 6,
   "metadata": {},
   "outputs": [
    {
     "data": {
      "text/plain": [
       "array([[[ 0.        ,  0.        ],\n",
       "        [-0.35745382,  0.35205582],\n",
       "        [ 0.21852148,  0.79471979],\n",
       "        [ 0.31645651,  0.08453816],\n",
       "        [-0.22657489,  0.24264173],\n",
       "        [ 0.35395562, -0.01919555],\n",
       "        [-0.45790252,  0.7383752 ],\n",
       "        [ 0.19271515,  0.7673098 ],\n",
       "        [ 0.07029788,  0.42595787],\n",
       "        [-0.0574049 ,  0.65948517]],\n",
       "\n",
       "       [[ 0.35745382, -0.35205582],\n",
       "        [ 0.        ,  0.        ],\n",
       "        [ 0.5759753 ,  0.44266396],\n",
       "        [ 0.67391033, -0.26751766],\n",
       "        [ 0.13087893, -0.10941409],\n",
       "        [ 0.71140945, -0.37125137],\n",
       "        [-0.1004487 ,  0.38631937],\n",
       "        [ 0.55016897,  0.41525397],\n",
       "        [ 0.4277517 ,  0.07390205],\n",
       "        [ 0.30004892,  0.30742934]],\n",
       "\n",
       "       [[-0.21852148, -0.79471979],\n",
       "        [-0.5759753 , -0.44266396],\n",
       "        [ 0.        ,  0.        ],\n",
       "        [ 0.09793503, -0.71018163],\n",
       "        [-0.44509637, -0.55207806],\n",
       "        [ 0.13543415, -0.81391533],\n",
       "        [-0.676424  , -0.05634459],\n",
       "        [-0.02580633, -0.02740999],\n",
       "        [-0.1482236 , -0.36876191],\n",
       "        [-0.27592638, -0.13523462]],\n",
       "\n",
       "       [[-0.31645651, -0.08453816],\n",
       "        [-0.67391033,  0.26751766],\n",
       "        [-0.09793503,  0.71018163],\n",
       "        [ 0.        ,  0.        ],\n",
       "        [-0.5430314 ,  0.15810357],\n",
       "        [ 0.03749912, -0.10373371],\n",
       "        [-0.77435903,  0.65383704],\n",
       "        [-0.12374136,  0.68277164],\n",
       "        [-0.24615863,  0.34141971],\n",
       "        [-0.37386141,  0.57494701]],\n",
       "\n",
       "       [[ 0.22657489, -0.24264173],\n",
       "        [-0.13087893,  0.10941409],\n",
       "        [ 0.44509637,  0.55207806],\n",
       "        [ 0.5430314 , -0.15810357],\n",
       "        [ 0.        ,  0.        ],\n",
       "        [ 0.58053052, -0.26183727],\n",
       "        [-0.23132763,  0.49573347],\n",
       "        [ 0.41929004,  0.52466807],\n",
       "        [ 0.29687277,  0.18331615],\n",
       "        [ 0.16916999,  0.41684344]],\n",
       "\n",
       "       [[-0.35395562,  0.01919555],\n",
       "        [-0.71140945,  0.37125137],\n",
       "        [-0.13543415,  0.81391533],\n",
       "        [-0.03749912,  0.10373371],\n",
       "        [-0.58053052,  0.26183727],\n",
       "        [ 0.        ,  0.        ],\n",
       "        [-0.81185815,  0.75757074],\n",
       "        [-0.16124047,  0.78650534],\n",
       "        [-0.28365775,  0.44515342],\n",
       "        [-0.41136052,  0.67868071]],\n",
       "\n",
       "       [[ 0.45790252, -0.7383752 ],\n",
       "        [ 0.1004487 , -0.38631937],\n",
       "        [ 0.676424  ,  0.05634459],\n",
       "        [ 0.77435903, -0.65383704],\n",
       "        [ 0.23132763, -0.49573347],\n",
       "        [ 0.81185815, -0.75757074],\n",
       "        [ 0.        ,  0.        ],\n",
       "        [ 0.65061767,  0.0289346 ],\n",
       "        [ 0.5282004 , -0.31241732],\n",
       "        [ 0.40049762, -0.07889003]],\n",
       "\n",
       "       [[-0.19271515, -0.7673098 ],\n",
       "        [-0.55016897, -0.41525397],\n",
       "        [ 0.02580633,  0.02740999],\n",
       "        [ 0.12374136, -0.68277164],\n",
       "        [-0.41929004, -0.52466807],\n",
       "        [ 0.16124047, -0.78650534],\n",
       "        [-0.65061767, -0.0289346 ],\n",
       "        [ 0.        ,  0.        ],\n",
       "        [-0.12241728, -0.34135192],\n",
       "        [-0.25012005, -0.10782463]],\n",
       "\n",
       "       [[-0.07029788, -0.42595787],\n",
       "        [-0.4277517 , -0.07390205],\n",
       "        [ 0.1482236 ,  0.36876191],\n",
       "        [ 0.24615863, -0.34141971],\n",
       "        [-0.29687277, -0.18331615],\n",
       "        [ 0.28365775, -0.44515342],\n",
       "        [-0.5282004 ,  0.31241732],\n",
       "        [ 0.12241728,  0.34135192],\n",
       "        [ 0.        ,  0.        ],\n",
       "        [-0.12770278,  0.23352729]],\n",
       "\n",
       "       [[ 0.0574049 , -0.65948517],\n",
       "        [-0.30004892, -0.30742934],\n",
       "        [ 0.27592638,  0.13523462],\n",
       "        [ 0.37386141, -0.57494701],\n",
       "        [-0.16916999, -0.41684344],\n",
       "        [ 0.41136052, -0.67868071],\n",
       "        [-0.40049762,  0.07889003],\n",
       "        [ 0.25012005,  0.10782463],\n",
       "        [ 0.12770278, -0.23352729],\n",
       "        [ 0.        ,  0.        ]]])"
      ]
     },
     "execution_count": 6,
     "metadata": {},
     "output_type": "execute_result"
    }
   ],
   "source": [
    "#对上面的式子进行拆解\n",
    "#先算在坐标系中，每对点的差值\n",
    "differences = X[:,np.newaxis,:]-X[np.newaxis,:,:]\n",
    "differences "
   ]
  },
  {
   "cell_type": "code",
   "execution_count": 7,
   "metadata": {},
   "outputs": [
    {
     "data": {
      "text/plain": [
       "array([[0.37454012, 0.95071431],\n",
       "       [0.73199394, 0.59865848],\n",
       "       [0.15601864, 0.15599452],\n",
       "       [0.05808361, 0.86617615],\n",
       "       [0.60111501, 0.70807258],\n",
       "       [0.02058449, 0.96990985],\n",
       "       [0.83244264, 0.21233911],\n",
       "       [0.18182497, 0.18340451],\n",
       "       [0.30424224, 0.52475643],\n",
       "       [0.43194502, 0.29122914]])"
      ]
     },
     "execution_count": 7,
     "metadata": {},
     "output_type": "execute_result"
    }
   ],
   "source": [
    "X"
   ]
  },
  {
   "cell_type": "code",
   "execution_count": 10,
   "metadata": {},
   "outputs": [
    {
     "data": {
      "text/plain": [
       "(10, 1, 2)"
      ]
     },
     "execution_count": 10,
     "metadata": {},
     "output_type": "execute_result"
    }
   ],
   "source": [
    "X[:,np.newaxis,:]  #newaxis,增加一个维度\n",
    "X[:,np.newaxis,:].shape"
   ]
  },
  {
   "cell_type": "code",
   "execution_count": 11,
   "metadata": {},
   "outputs": [
    {
     "data": {
      "text/plain": [
       "(1, 10, 2)"
      ]
     },
     "execution_count": 11,
     "metadata": {},
     "output_type": "execute_result"
    }
   ],
   "source": [
    "X[np.newaxis,:,:]\n",
    "X[np.newaxis,:,:].shape"
   ]
  },
  {
   "cell_type": "code",
   "execution_count": 12,
   "metadata": {},
   "outputs": [
    {
     "data": {
      "text/plain": [
       "array([[[0.00000000e+00, 0.00000000e+00],\n",
       "        [1.27773236e-01, 1.23943302e-01],\n",
       "        [4.77516365e-02, 6.31579538e-01],\n",
       "        [1.00144721e-01, 7.14670060e-03],\n",
       "        [5.13361821e-02, 5.88750085e-02],\n",
       "        [1.25284584e-01, 3.68468977e-04],\n",
       "        [2.09674720e-01, 5.45197930e-01],\n",
       "        [3.71391297e-02, 5.88764324e-01],\n",
       "        [4.94179135e-03, 1.81440111e-01],\n",
       "        [3.29532252e-03, 4.34920684e-01]],\n",
       "\n",
       "       [[1.27773236e-01, 1.23943302e-01],\n",
       "        [0.00000000e+00, 0.00000000e+00],\n",
       "        [3.31747548e-01, 1.95951385e-01],\n",
       "        [4.54155132e-01, 7.15656993e-02],\n",
       "        [1.71292943e-02, 1.19714439e-02],\n",
       "        [5.06103402e-01, 1.37827578e-01],\n",
       "        [1.00899411e-02, 1.49242658e-01],\n",
       "        [3.02685901e-01, 1.72435863e-01],\n",
       "        [1.82971516e-01, 5.46151337e-03],\n",
       "        [9.00293563e-02, 9.45128016e-02]],\n",
       "\n",
       "       [[4.77516365e-02, 6.31579538e-01],\n",
       "        [3.31747548e-01, 1.95951385e-01],\n",
       "        [0.00000000e+00, 0.00000000e+00],\n",
       "        [9.59126976e-03, 5.04357941e-01],\n",
       "        [1.98110780e-01, 3.04790182e-01],\n",
       "        [1.83424079e-02, 6.62458167e-01],\n",
       "        [4.57549428e-01, 3.17471286e-03],\n",
       "        [6.65966501e-04, 7.51307525e-04],\n",
       "        [2.19702363e-02, 1.35985347e-01],\n",
       "        [7.61353662e-02, 1.82884024e-02]],\n",
       "\n",
       "       [[1.00144721e-01, 7.14670060e-03],\n",
       "        [4.54155132e-01, 7.15656993e-02],\n",
       "        [9.59126976e-03, 5.04357941e-01],\n",
       "        [0.00000000e+00, 0.00000000e+00],\n",
       "        [2.94883101e-01, 2.49967382e-02],\n",
       "        [1.40618384e-03, 1.07606818e-02],\n",
       "        [5.99631905e-01, 4.27502868e-01],\n",
       "        [1.53119229e-02, 4.66177107e-01],\n",
       "        [6.05940715e-02, 1.16567421e-01],\n",
       "        [1.39772351e-01, 3.30564059e-01]],\n",
       "\n",
       "       [[5.13361821e-02, 5.88750085e-02],\n",
       "        [1.71292943e-02, 1.19714439e-02],\n",
       "        [1.98110780e-01, 3.04790182e-01],\n",
       "        [2.94883101e-01, 2.49967382e-02],\n",
       "        [0.00000000e+00, 0.00000000e+00],\n",
       "        [3.37015682e-01, 6.85587582e-02],\n",
       "        [5.35124720e-02, 2.45751670e-01],\n",
       "        [1.75804141e-01, 2.75276582e-01],\n",
       "        [8.81334408e-02, 3.36048094e-02],\n",
       "        [2.86184866e-02, 1.73758451e-01]],\n",
       "\n",
       "       [[1.25284584e-01, 3.68468977e-04],\n",
       "        [5.06103402e-01, 1.37827578e-01],\n",
       "        [1.83424079e-02, 6.62458167e-01],\n",
       "        [1.40618384e-03, 1.07606818e-02],\n",
       "        [3.37015682e-01, 6.85587582e-02],\n",
       "        [0.00000000e+00, 0.00000000e+00],\n",
       "        [6.59113650e-01, 5.73913428e-01],\n",
       "        [2.59984901e-02, 6.18590653e-01],\n",
       "        [8.04617184e-02, 1.98161568e-01],\n",
       "        [1.69217481e-01, 4.60607509e-01]],\n",
       "\n",
       "       [[2.09674720e-01, 5.45197930e-01],\n",
       "        [1.00899411e-02, 1.49242658e-01],\n",
       "        [4.57549428e-01, 3.17471286e-03],\n",
       "        [5.99631905e-01, 4.27502868e-01],\n",
       "        [5.35124720e-02, 2.45751670e-01],\n",
       "        [6.59113650e-01, 5.73913428e-01],\n",
       "        [0.00000000e+00, 0.00000000e+00],\n",
       "        [4.23303357e-01, 8.37211125e-04],\n",
       "        [2.78995660e-01, 9.76045824e-02],\n",
       "        [1.60398345e-01, 6.22363676e-03]],\n",
       "\n",
       "       [[3.71391297e-02, 5.88764324e-01],\n",
       "        [3.02685901e-01, 1.72435863e-01],\n",
       "        [6.65966501e-04, 7.51307525e-04],\n",
       "        [1.53119229e-02, 4.66177107e-01],\n",
       "        [1.75804141e-01, 2.75276582e-01],\n",
       "        [2.59984901e-02, 6.18590653e-01],\n",
       "        [4.23303357e-01, 8.37211125e-04],\n",
       "        [0.00000000e+00, 0.00000000e+00],\n",
       "        [1.49859894e-02, 1.16521135e-01],\n",
       "        [6.25600401e-02, 1.16261509e-02]],\n",
       "\n",
       "       [[4.94179135e-03, 1.81440111e-01],\n",
       "        [1.82971516e-01, 5.46151337e-03],\n",
       "        [2.19702363e-02, 1.35985347e-01],\n",
       "        [6.05940715e-02, 1.16567421e-01],\n",
       "        [8.81334408e-02, 3.36048094e-02],\n",
       "        [8.04617184e-02, 1.98161568e-01],\n",
       "        [2.78995660e-01, 9.76045824e-02],\n",
       "        [1.49859894e-02, 1.16521135e-01],\n",
       "        [0.00000000e+00, 0.00000000e+00],\n",
       "        [1.63079989e-02, 5.45349958e-02]],\n",
       "\n",
       "       [[3.29532252e-03, 4.34920684e-01],\n",
       "        [9.00293563e-02, 9.45128016e-02],\n",
       "        [7.61353662e-02, 1.82884024e-02],\n",
       "        [1.39772351e-01, 3.30564059e-01],\n",
       "        [2.86184866e-02, 1.73758451e-01],\n",
       "        [1.69217481e-01, 4.60607509e-01],\n",
       "        [1.60398345e-01, 6.22363676e-03],\n",
       "        [6.25600401e-02, 1.16261509e-02],\n",
       "        [1.63079989e-02, 5.45349958e-02],\n",
       "        [0.00000000e+00, 0.00000000e+00]]])"
      ]
     },
     "execution_count": 12,
     "metadata": {},
     "output_type": "execute_result"
    }
   ],
   "source": [
    "#求出差值的平方,X,Y坐标下\n",
    "sq_differen = differences**2\n",
    "sq_differen"
   ]
  },
  {
   "cell_type": "code",
   "execution_count": 13,
   "metadata": {},
   "outputs": [
    {
     "data": {
      "text/plain": [
       "array([[0.        , 0.25171654, 0.67933117, 0.10729142, 0.11021119,\n",
       "        0.12565305, 0.75487265, 0.62590345, 0.1863819 , 0.43821601],\n",
       "       [0.25171654, 0.        , 0.52769893, 0.52572083, 0.02910074,\n",
       "        0.64393098, 0.1593326 , 0.47512176, 0.18843303, 0.18454216],\n",
       "       [0.67933117, 0.52769893, 0.        , 0.51394921, 0.50290096,\n",
       "        0.68080058, 0.46072414, 0.00141727, 0.15795558, 0.09442377],\n",
       "       [0.10729142, 0.52572083, 0.51394921, 0.        , 0.31987984,\n",
       "        0.01216687, 1.02713477, 0.48148903, 0.17716149, 0.47033641],\n",
       "       [0.11021119, 0.02910074, 0.50290096, 0.31987984, 0.        ,\n",
       "        0.40557444, 0.29926414, 0.45108072, 0.12173825, 0.20237694],\n",
       "       [0.12565305, 0.64393098, 0.68080058, 0.01216687, 0.40557444,\n",
       "        0.        , 1.23302708, 0.64458914, 0.27862329, 0.62982499],\n",
       "       [0.75487265, 0.1593326 , 0.46072414, 1.02713477, 0.29926414,\n",
       "        1.23302708, 0.        , 0.42414057, 0.37660024, 0.16662198],\n",
       "       [0.62590345, 0.47512176, 0.00141727, 0.48148903, 0.45108072,\n",
       "        0.64458914, 0.42414057, 0.        , 0.13150712, 0.07418619],\n",
       "       [0.1863819 , 0.18843303, 0.15795558, 0.17716149, 0.12173825,\n",
       "        0.27862329, 0.37660024, 0.13150712, 0.        , 0.07084299],\n",
       "       [0.43821601, 0.18454216, 0.09442377, 0.47033641, 0.20237694,\n",
       "        0.62982499, 0.16662198, 0.07418619, 0.07084299, 0.        ]])"
      ]
     },
     "execution_count": 13,
     "metadata": {},
     "output_type": "execute_result"
    }
   ],
   "source": [
    "#将差值求和，获得平方距离,-1表示相加最里层的维度\n",
    "dist_sq = sq_differen.sum(-1)\n",
    "dist_sq"
   ]
  },
  {
   "cell_type": "code",
   "execution_count": 14,
   "metadata": {},
   "outputs": [
    {
     "data": {
      "text/plain": [
       "array([[0, 3, 4, 5, 8, 1, 9, 7, 2, 6],\n",
       "       [1, 4, 6, 9, 8, 0, 7, 3, 2, 5],\n",
       "       [2, 7, 9, 8, 6, 4, 3, 1, 0, 5],\n",
       "       [3, 5, 0, 8, 4, 9, 7, 2, 1, 6],\n",
       "       [4, 1, 0, 8, 9, 6, 3, 5, 7, 2],\n",
       "       [5, 3, 0, 8, 4, 9, 1, 7, 2, 6],\n",
       "       [6, 1, 9, 4, 8, 7, 2, 0, 3, 5],\n",
       "       [7, 2, 9, 8, 6, 4, 1, 3, 0, 5],\n",
       "       [8, 9, 4, 7, 2, 3, 0, 1, 5, 6],\n",
       "       [9, 8, 7, 2, 6, 1, 4, 0, 3, 5]], dtype=int64)"
      ]
     },
     "execution_count": 14,
     "metadata": {},
     "output_type": "execute_result"
    }
   ],
   "source": [
    "#使用排序，按行排序，找出每个点到对应点的距离序列\n",
    "nearest = np.argsort(dist_sq,axis = 1)\n",
    "nearest"
   ]
  },
  {
   "cell_type": "code",
   "execution_count": 16,
   "metadata": {},
   "outputs": [
    {
     "data": {
      "text/plain": [
       "array([[3, 0, 4, 5, 8, 9, 1, 7, 2, 6],\n",
       "       [1, 4, 6, 9, 3, 5, 2, 7, 8, 0],\n",
       "       [2, 7, 9, 8, 6, 4, 5, 1, 3, 0],\n",
       "       [3, 5, 0, 8, 4, 1, 6, 7, 2, 9],\n",
       "       [1, 4, 0, 8, 9, 6, 2, 7, 5, 3],\n",
       "       [5, 3, 0, 8, 4, 1, 6, 7, 2, 9],\n",
       "       [1, 9, 6, 4, 3, 5, 2, 7, 8, 0],\n",
       "       [7, 2, 9, 8, 6, 4, 5, 1, 3, 0],\n",
       "       [8, 9, 4, 7, 2, 3, 0, 1, 5, 6],\n",
       "       [8, 7, 9, 2, 1, 6, 4, 5, 3, 0]], dtype=int64)"
      ]
     },
     "execution_count": 16,
     "metadata": {},
     "output_type": "execute_result"
    }
   ],
   "source": [
    "#除自己本身，我们关心距离其最近的两个近邻\n",
    "K = 2\n",
    "nearest_partition = np.argpartition(dist_sq,K+1,axis =1)\n",
    "nearest_partition"
   ]
  },
  {
   "cell_type": "code",
   "execution_count": 17,
   "metadata": {},
   "outputs": [
    {
     "data": {
      "image/png": "[encoded data removed]",
      "text/plain": [
       "<Figure size 432x288 with 1 Axes>"
      ]
     },
     "metadata": {},
     "output_type": "display_data"
    }
   ],
   "source": [
    "#将每个点与其最近的两个点相连\n",
    "plt.scatter(X[:,0],X[:,1],s=100);\n",
    "K=2\n",
    "\n",
    "for i in range(X.shape[0]):\n",
    "    for j in nearest_partition[i,:K+1]:\n",
    "        #画一条从X[i]到X[j]的线，用zip方法实现画线\n",
    "        plt.plot(*zip(X[i],X[j]),color='black')"
   ]
  },
  {
   "cell_type": "code",
   "execution_count": null,
   "metadata": {},
   "outputs": [],
   "source": []
  }
 ],
 "metadata": {
  "kernelspec": {
   "display_name": "Python 3",
   "language": "python",
   "name": "python3"
  },
  "language_info": {
   "codemirror_mode": {
    "name": "ipython",
    "version": 3
   },
   "file_extension": ".py",
   "mimetype": "text/x-python",
   "name": "python",
   "nbconvert_exporter": "python",
   "pygments_lexer": "ipython3",
   "version": "3.7.3"
  }
 },
 "nbformat": 4,
 "nbformat_minor": 2
}
